{
 "cells": [
  {
   "cell_type": "code",
   "execution_count": 2,
   "id": "8ca5914a-b937-4e98-b2d4-83334782fc65",
   "metadata": {},
   "outputs": [
    {
     "name": "stdout",
     "output_type": "stream",
     "text": [
      "\n",
      "--- Menu ---\n",
      "1. Registra una nuova ricetta\n",
      "2. Visualizza tutte le ricette\n",
      "3. Cerca ricette\n",
      "4. Statistiche sulle ricette\n",
      "5. Filtraggio avanzato\n",
      "6. Esci\n"
     ]
    },
    {
     "name": "stdin",
     "output_type": "stream",
     "text": [
      "Seleziona un'opzione (1-6):  1\n"
     ]
    },
    {
     "name": "stdout",
     "output_type": "stream",
     "text": [
      "\n",
      "--- Registrazione di una nuova ricetta ---\n"
     ]
    },
    {
     "name": "stdin",
     "output_type": "stream",
     "text": [
      "Inserisci il nome della ricetta:  Pasta al pomodoro\n",
      "Inserisci la categoria della ricetta:  Primo\n",
      "Inserisci il tempo di preparazione (minuti):  30\n",
      "Inserisci gli ingredienti separati da una virgola:  Pasta, Pomodoro, Basilico, Olio, Parmigiano\n"
     ]
    },
    {
     "name": "stdout",
     "output_type": "stream",
     "text": [
      "Ricetta 'Pasta al pomodoro' aggiunta con successo!\n",
      "\n",
      "--- Menu ---\n",
      "1. Registra una nuova ricetta\n",
      "2. Visualizza tutte le ricette\n",
      "3. Cerca ricette\n",
      "4. Statistiche sulle ricette\n",
      "5. Filtraggio avanzato\n",
      "6. Esci\n"
     ]
    },
    {
     "name": "stdin",
     "output_type": "stream",
     "text": [
      "Seleziona un'opzione (1-6):  2\n"
     ]
    },
    {
     "name": "stdout",
     "output_type": "stream",
     "text": [
      "\n",
      "--- Visualizzazione delle ricette ---\n",
      "Nome: Pasta al pomodoro, Categoria: Primo, Tempo: 30 min, Ingredienti: Pasta, Pomodoro, Basilico, Olio, Parmigiano\n",
      "\n",
      "--- Menu ---\n",
      "1. Registra una nuova ricetta\n",
      "2. Visualizza tutte le ricette\n",
      "3. Cerca ricette\n",
      "4. Statistiche sulle ricette\n",
      "5. Filtraggio avanzato\n",
      "6. Esci\n"
     ]
    },
    {
     "name": "stdin",
     "output_type": "stream",
     "text": [
      "Seleziona un'opzione (1-6):  3\n"
     ]
    },
    {
     "name": "stdout",
     "output_type": "stream",
     "text": [
      "\n",
      "--- Ricerca di ricette ---\n"
     ]
    },
    {
     "name": "stdin",
     "output_type": "stream",
     "text": [
      "Inserisci il nome (o parte del nome) della ricetta da cercare (lascia vuoto per saltare):  Pomodoro\n",
      "Inserisci la categoria della ricetta da cercare (lascia vuoto per saltare):  Primo\n"
     ]
    },
    {
     "name": "stdout",
     "output_type": "stream",
     "text": [
      "Nome: Pasta al pomodoro, Categoria: Primo, Tempo: 30 min, Ingredienti: Pasta, Pomodoro, Basilico, Olio, Parmigiano\n",
      "\n",
      "--- Menu ---\n",
      "1. Registra una nuova ricetta\n",
      "2. Visualizza tutte le ricette\n",
      "3. Cerca ricette\n",
      "4. Statistiche sulle ricette\n",
      "5. Filtraggio avanzato\n",
      "6. Esci\n"
     ]
    },
    {
     "name": "stdin",
     "output_type": "stream",
     "text": [
      "Seleziona un'opzione (1-6):  4\n"
     ]
    },
    {
     "name": "stdout",
     "output_type": "stream",
     "text": [
      "\n",
      "--- Statistiche sulle ricette ---\n",
      "Totale ricette registrate: 1\n",
      "Distribuzione per categoria:\n",
      "  Primo: 1 ricetta/e\n",
      "\n",
      "--- Menu ---\n",
      "1. Registra una nuova ricetta\n",
      "2. Visualizza tutte le ricette\n",
      "3. Cerca ricette\n",
      "4. Statistiche sulle ricette\n",
      "5. Filtraggio avanzato\n",
      "6. Esci\n"
     ]
    },
    {
     "name": "stdin",
     "output_type": "stream",
     "text": [
      "Seleziona un'opzione (1-6):  5\n"
     ]
    },
    {
     "name": "stdout",
     "output_type": "stream",
     "text": [
      "\n",
      "--- Filtraggio avanzato ---\n"
     ]
    },
    {
     "name": "stdin",
     "output_type": "stream",
     "text": [
      "Inserisci il tempo massimo di preparazione (lascia vuoto per saltare):  60\n",
      "Inserisci gli ingredienti richiesti separati da una virgola (lascia vuoto per saltare):  \n"
     ]
    },
    {
     "name": "stdout",
     "output_type": "stream",
     "text": [
      "Nome: Pasta al pomodoro, Categoria: Primo, Tempo: 30 min, Ingredienti: Pasta, Pomodoro, Basilico, Olio, Parmigiano\n",
      "\n",
      "--- Menu ---\n",
      "1. Registra una nuova ricetta\n",
      "2. Visualizza tutte le ricette\n",
      "3. Cerca ricette\n",
      "4. Statistiche sulle ricette\n",
      "5. Filtraggio avanzato\n",
      "6. Esci\n"
     ]
    },
    {
     "name": "stdin",
     "output_type": "stream",
     "text": [
      "Seleziona un'opzione (1-6):  6\n"
     ]
    },
    {
     "name": "stdout",
     "output_type": "stream",
     "text": [
      "Uscita dal programma. Arrivederci!\n"
     ]
    }
   ],
   "source": [
    "# Lista per memorizzare le ricette\n",
    "ricettario = []\n",
    "\n",
    "# Funzione per registrare una nuova ricetta\n",
    "def registra_ricetta(nome, categoria, tempo_preparazione, ingredienti):\n",
    "    ricetta = {\n",
    "        \"nome\": nome,\n",
    "        \"categoria\": categoria,\n",
    "        \"tempo_preparazione\": tempo_preparazione,\n",
    "        \"ingredienti\": ingredienti\n",
    "    }\n",
    "    ricettario.append(ricetta)\n",
    "    print(f\"Ricetta '{nome}' aggiunta con successo!\")\n",
    "\n",
    "# Funzione per visualizzare tutte le ricette\n",
    "def visualizza_ricette():\n",
    "    if not ricettario:\n",
    "        print(\"Non ci sono ricette registrate.\")\n",
    "    else:\n",
    "        for r in ricettario:\n",
    "            print(f\"Nome: {r['nome']}, Categoria: {r['categoria']}, \"\n",
    "                  f\"Tempo: {r['tempo_preparazione']} min, \"\n",
    "                  f\"Ingredienti: {', '.join(r['ingredienti'])}\")\n",
    "\n",
    "# Funzione per cercare ricette in base al nome o alla categoria\n",
    "def ricerca_ricette(nome=None, categoria=None):\n",
    "    risultati = [\n",
    "        r for r in ricettario \n",
    "        if (nome is None or nome.lower() in r[\"nome\"].lower()) and \n",
    "           (categoria is None or categoria.lower() in r[\"categoria\"].lower())\n",
    "    ]\n",
    "    if risultati:\n",
    "        for r in risultati:\n",
    "            print(f\"Nome: {r['nome']}, Categoria: {r['categoria']}, \"\n",
    "                  f\"Tempo: {r['tempo_preparazione']} min, \"\n",
    "                  f\"Ingredienti: {', '.join(r['ingredienti'])}\")\n",
    "    else:\n",
    "        print(\"Nessuna ricetta trovata.\")\n",
    "\n",
    "# Funzione per generare statistiche sulle ricette\n",
    "def statistiche_ricette():\n",
    "    totale_ricette = len(ricettario)\n",
    "    distribuzione_categorie = {}\n",
    "    for r in ricettario:\n",
    "        categoria = r[\"categoria\"]\n",
    "        distribuzione_categorie[categoria] = distribuzione_categorie.get(categoria, 0) + 1\n",
    "\n",
    "    print(f\"Totale ricette registrate: {totale_ricette}\")\n",
    "    print(\"Distribuzione per categoria:\")\n",
    "    for categoria, count in distribuzione_categorie.items():\n",
    "        print(f\"  {categoria}: {count} ricetta/e\")\n",
    "\n",
    "# Funzione di filtraggio avanzato\n",
    "def filtro_avanzato(tempo_massimo=None, ingredienti_inclusi=None):\n",
    "    risultati = ricettario\n",
    "    if tempo_massimo is not None:\n",
    "        risultati = [r for r in risultati if r[\"tempo_preparazione\"] <= tempo_massimo]\n",
    "    if ingredienti_inclusi is not None:\n",
    "        risultati = [r for r in risultati if all(ingrediente in r[\"ingredienti\"] for ingrediente in ingredienti_inclusi)]\n",
    "\n",
    "    if risultati:\n",
    "        for r in risultati:\n",
    "            print(f\"Nome: {r['nome']}, Categoria: {r['categoria']}, \"\n",
    "                  f\"Tempo: {r['tempo_preparazione']} min, \"\n",
    "                  f\"Ingredienti: {', '.join(r['ingredienti'])}\")\n",
    "    else:\n",
    "        print(\"Nessuna ricetta trovata con i criteri specificati.\")\n",
    "\n",
    "\n",
    "# Menu interattivo per gestire il ricettario\n",
    "def menu():\n",
    "    while True:\n",
    "        print(\"\\n--- Menu ---\")\n",
    "        print(\"1. Registra una nuova ricetta\")\n",
    "        print(\"2. Visualizza tutte le ricette\")\n",
    "        print(\"3. Cerca ricette\")\n",
    "        print(\"4. Statistiche sulle ricette\")\n",
    "        print(\"5. Filtraggio avanzato\")\n",
    "        print(\"6. Esci\")\n",
    "        \n",
    "        scelta = input(\"Seleziona un'opzione (1-6): \")\n",
    "        \n",
    "        if scelta == \"1\":\n",
    "            # Registrazione di una nuova ricetta\n",
    "            print(\"\\n--- Registrazione di una nuova ricetta ---\")\n",
    "            nome = input(\"Inserisci il nome della ricetta: \")\n",
    "            categoria = input(\"Inserisci la categoria della ricetta: \")\n",
    "            \n",
    "            # Chiedi il tempo di preparazione finché non è un numero intero\n",
    "            while True:\n",
    "                try:\n",
    "                    tempo_preparazione = int(input(\"Inserisci il tempo di preparazione (minuti): \"))\n",
    "                    break  # Se il valore è corretto, esce dal ciclo\n",
    "                except ValueError:\n",
    "                    print(\"Errore: Il tempo di preparazione deve essere un numero intero.\")\n",
    "            \n",
    "            ingredienti = input(\"Inserisci gli ingredienti separati da una virgola: \").split(\",\")\n",
    "            registra_ricetta(nome.strip(), categoria.strip(), tempo_preparazione, [i.strip() for i in ingredienti])\n",
    "            \n",
    "        elif scelta == \"2\":\n",
    "            # Visualizzazione di tutte le ricette\n",
    "            print(\"\\n--- Visualizzazione delle ricette ---\")\n",
    "            visualizza_ricette()\n",
    "        \n",
    "        elif scelta == \"3\":\n",
    "            # Ricerca di ricette\n",
    "            print(\"\\n--- Ricerca di ricette ---\")\n",
    "            nome = input(\"Inserisci il nome (o parte del nome) della ricetta da cercare (lascia vuoto per saltare): \")\n",
    "            categoria = input(\"Inserisci la categoria della ricetta da cercare (lascia vuoto per saltare): \")\n",
    "            ricerca_ricette(nome=nome.strip() if nome else None, categoria=categoria.strip() if categoria else None)\n",
    "        \n",
    "        elif scelta == \"4\":\n",
    "            # Statistiche sulle ricette\n",
    "            print(\"\\n--- Statistiche sulle ricette ---\")\n",
    "            statistiche_ricette()\n",
    "        \n",
    "        elif scelta == \"5\":\n",
    "            # Filtraggio avanzato\n",
    "            print(\"\\n--- Filtraggio avanzato ---\")\n",
    "            tempo_massimo = input(\"Inserisci il tempo massimo di preparazione (lascia vuoto per saltare): \")\n",
    "            try:\n",
    "                tempo_massimo = int(tempo_massimo.strip()) if tempo_massimo else None\n",
    "            except ValueError:\n",
    "                print(\"Errore: Il tempo massimo deve essere un numero intero.\")\n",
    "                continue\n",
    "            ingredienti_inclusi = input(\"Inserisci gli ingredienti richiesti separati da una virgola (lascia vuoto per saltare): \")\n",
    "            ingredienti_inclusi = [i.strip() for i in ingredienti_inclusi.split(\",\")] if ingredienti_inclusi else None\n",
    "            filtro_avanzato(tempo_massimo=tempo_massimo, ingredienti_inclusi=ingredienti_inclusi)\n",
    "        \n",
    "        elif scelta == \"6\":\n",
    "            # Esci dal programma\n",
    "            print(\"Uscita dal programma. Arrivederci!\")\n",
    "            break\n",
    "        \n",
    "        else:\n",
    "            print(\"Opzione non valida. Riprova.\")\n",
    "\n",
    "# Avvio del programma\n",
    "menu()\n"
   ]
  },
  {
   "cell_type": "code",
   "execution_count": null,
   "id": "193a342e-dca7-47e9-b5f4-e4758bc636a6",
   "metadata": {},
   "outputs": [],
   "source": []
  }
 ],
 "metadata": {
  "kernelspec": {
   "display_name": "Python 3 (ipykernel)",
   "language": "python",
   "name": "python3"
  },
  "language_info": {
   "codemirror_mode": {
    "name": "ipython",
    "version": 3
   },
   "file_extension": ".py",
   "mimetype": "text/x-python",
   "name": "python",
   "nbconvert_exporter": "python",
   "pygments_lexer": "ipython3",
   "version": "3.12.7"
  }
 },
 "nbformat": 4,
 "nbformat_minor": 5
}
